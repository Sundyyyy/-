{
  "metadata": {
    "language_info": {
      "codemirror_mode": {
        "name": "python",
        "version": 3
      },
      "file_extension": ".py",
      "mimetype": "text/x-python",
      "name": "python",
      "nbconvert_exporter": "python",
      "pygments_lexer": "ipython3",
      "version": "3.8"
    },
    "kernelspec": {
      "name": "python",
      "display_name": "Python (Pyodide)",
      "language": "python"
    }
  },
  "nbformat_minor": 4,
  "nbformat": 4,
  "cells": [
    {
      "cell_type": "code",
      "source": "",
      "metadata": {
        "trusted": true
      },
      "execution_count": 2,
      "outputs": []
    },
    {
      "cell_type": "code",
      "source": "#1. Import the numpy package under the name np (★☆☆)\nimport numpy as np",
      "metadata": {
        "trusted": true
      },
      "execution_count": 11,
      "outputs": []
    },
    {
      "cell_type": "code",
      "source": "#2. Print the numpy version and the configuration (★☆☆)\nnp.version.version",
      "metadata": {
        "trusted": true
      },
      "execution_count": 10,
      "outputs": [
        {
          "execution_count": 10,
          "output_type": "execute_result",
          "data": {
            "text/plain": "'1.22.4'"
          },
          "metadata": {}
        }
      ]
    },
    {
      "cell_type": "code",
      "source": "#3. Create a null vector of size 10 (★☆☆)\nx=np.zeros(10)",
      "metadata": {
        "trusted": true
      },
      "execution_count": 12,
      "outputs": []
    },
    {
      "cell_type": "code",
      "source": "#6. Create a null vector of size 10 but the fifth value which is 1 (★☆☆)\nx[4]=1\nx",
      "metadata": {
        "trusted": true
      },
      "execution_count": 14,
      "outputs": [
        {
          "execution_count": 14,
          "output_type": "execute_result",
          "data": {
            "text/plain": "array([0., 0., 0., 0., 1., 0., 0., 0., 0., 0.])"
          },
          "metadata": {}
        }
      ]
    },
    {
      "cell_type": "code",
      "source": "#7. Create a vector with values ranging from 10 to 49 (★☆☆)\nZ=np.arange(10,50)\nprint (Z)",
      "metadata": {
        "trusted": true
      },
      "execution_count": 13,
      "outputs": [
        {
          "name": "stdout",
          "text": "[10 11 12 13 14 15 16 17 18 19 20 21 22 23 24 25 26 27 28 29 30 31 32 33\n 34 35 36 37 38 39 40 41 42 43 44 45 46 47 48 49]\n",
          "output_type": "stream"
        }
      ]
    },
    {
      "cell_type": "code",
      "source": "#8. Reverse a vector (first element becomes last) (★☆☆)\na = np.arange(10,50)\na= a[::-1]\nprint (a)",
      "metadata": {
        "trusted": true
      },
      "execution_count": 15,
      "outputs": [
        {
          "name": "stdout",
          "text": "[49 48 47 46 45 44 43 42 41 40 39 38 37 36 35 34 33 32 31 30 29 28 27 26\n 25 24 23 22 21 20 19 18 17 16 15 14 13 12 11 10]\n",
          "output_type": "stream"
        }
      ]
    },
    {
      "cell_type": "code",
      "source": "#9. Create a 3x3 matrix with values ranging from 0 to 8 (★☆☆)\nZ = np.arange(9).reshape(3,3)\nprint (Z)",
      "metadata": {
        "trusted": true
      },
      "execution_count": 16,
      "outputs": [
        {
          "name": "stdout",
          "text": "[[0 1 2]\n [3 4 5]\n [6 7 8]]\n",
          "output_type": "stream"
        }
      ]
    },
    {
      "cell_type": "code",
      "source": "#10. Find indices of non-zero elements from [1,2,0,0,4,0] (★☆☆)\nnz = np.nonzero([1,2,0,0,4,0])\nprint(nz)",
      "metadata": {
        "trusted": true
      },
      "execution_count": 17,
      "outputs": [
        {
          "name": "stdout",
          "text": "(array([0, 1, 4], dtype=int32),)\n",
          "output_type": "stream"
        }
      ]
    },
    {
      "cell_type": "code",
      "source": "#11. Create a 3x3 identity matrix (★☆☆)\nZ= np.eye(3)\nprint (Z)",
      "metadata": {
        "trusted": true
      },
      "execution_count": 18,
      "outputs": [
        {
          "name": "stdout",
          "text": "[[1. 0. 0.]\n [0. 1. 0.]\n [0. 0. 1.]]\n",
          "output_type": "stream"
        }
      ]
    },
    {
      "cell_type": "code",
      "source": "#12. Create a 3x3x3 array with random values (★☆☆)\nZ = np.random.uniform((3,3,3))\nprint (Z)",
      "metadata": {
        "trusted": true
      },
      "execution_count": 19,
      "outputs": [
        {
          "name": "stdout",
          "text": "[2.03010832 2.95782633 2.75272778]\n",
          "output_type": "stream"
        }
      ]
    },
    {
      "cell_type": "code",
      "source": "#13. Create a 10x10 array with random values and find the minimum and maximum values (★☆☆)\nZ = np.random.random((10,10))\nZmin, Zmax = Z.min(), Z.max()\nprint(Zmin, Zmax)",
      "metadata": {
        "trusted": true
      },
      "execution_count": 20,
      "outputs": [
        {
          "name": "stdout",
          "text": "0.016398234467591477 0.9994024829445178\n",
          "output_type": "stream"
        }
      ]
    },
    {
      "cell_type": "code",
      "source": "#14. Create a random vector of size 30 and find the mean value (★☆☆)\nZ = np.random.random(10)\nm = Z.mean()\nprint (m)",
      "metadata": {
        "trusted": true
      },
      "execution_count": 21,
      "outputs": [
        {
          "name": "stdout",
          "text": "0.6635202850832789\n",
          "output_type": "stream"
        }
      ]
    },
    {
      "cell_type": "code",
      "source": "#15. Create a 2d array with 1 on the border and 0 inside (★☆☆)\nZ = np.ones((10,10))\nZ[1:-1,1:-1]=0",
      "metadata": {
        "trusted": true
      },
      "execution_count": 27,
      "outputs": []
    },
    {
      "cell_type": "code",
      "source": "#17. What is the result of the following expression? (★☆☆)\n0 * np.nan\nnp.nan == np.nan\nnp.inf > np.nan\nnp.nan - np.nan\nnp.nan in set([np.nan])\n0.3 == 3 * 0.1\n\nnan\nFalse\nFalse\nnan\nFalse",
      "metadata": {
        "trusted": true
      },
      "execution_count": 28,
      "outputs": [
        {
          "execution_count": 28,
          "output_type": "execute_result",
          "data": {
            "text/plain": "False"
          },
          "metadata": {}
        }
      ]
    },
    {
      "cell_type": "code",
      "source": "#19. Create a 8x8 matrix and fill it with a checkerboard pattern (★☆☆)\nZ = np.zeros ((8,8), dtype=int)\nZ[1::2, ::2]= 1\nZ[::2, 1::2] = 1\nprint (Z)",
      "metadata": {
        "trusted": true
      },
      "execution_count": 29,
      "outputs": [
        {
          "name": "stdout",
          "text": "[[0 1 0 1 0 1 0 1]\n [1 0 1 0 1 0 1 0]\n [0 1 0 1 0 1 0 1]\n [1 0 1 0 1 0 1 0]\n [0 1 0 1 0 1 0 1]\n [1 0 1 0 1 0 1 0]\n [0 1 0 1 0 1 0 1]\n [1 0 1 0 1 0 1 0]]\n",
          "output_type": "stream"
        }
      ]
    },
    {
      "cell_type": "code",
      "source": "#20. Consider a (6,7,8) shape array, what is the index (x,y,z) of the 100th element? (★☆☆)\nprint (np.unravel_index(100, (6,7,8)))",
      "metadata": {
        "trusted": true
      },
      "execution_count": 30,
      "outputs": [
        {
          "name": "stdout",
          "text": "(1, 5, 4)\n",
          "output_type": "stream"
        }
      ]
    },
    {
      "cell_type": "code",
      "source": "#25. Given a 1D array, negate all elements which are between 3 and 8, in place. (★☆☆)\n\ndata = np.arange(11)\ndata[(data>3) & (data < 8)] *= -1",
      "metadata": {
        "trusted": true
      },
      "execution_count": 18,
      "outputs": []
    },
    {
      "cell_type": "code",
      "source": "#28. What are the result of the following expressions? (★☆☆)\n#np.array(0) / np.array(0)\n#np.array(0) // np.array(0)\n#np.array([np.nan]).astype(int).astype(float)\nprint(np.array(0)// np.array(0))\nprint(np.array(0)//np.array(0.))\nprint(np.array(0)//np.array(0))\nprint(np.array(0)//np.array(0.))\n\n#0\n#nan\n#0\n#nan",
      "metadata": {
        "trusted": true
      },
      "execution_count": 33,
      "outputs": [
        {
          "name": "stdout",
          "text": "0\nnan\n0\nnan\n",
          "output_type": "stream"
        }
      ]
    },
    {
      "cell_type": "code",
      "source": "#30. How to find common values between two arrays? (★☆☆)\nar1 = np.array([0, 1, 2, 3, 4])\nar2 = [1, 3, 4]\n  \nprint(np.intersect1d(ar1, ar2))",
      "metadata": {
        "trusted": true
      },
      "execution_count": 34,
      "outputs": [
        {
          "name": "stdout",
          "text": "[1 3 4]\n",
          "output_type": "stream"
        }
      ]
    },
    {
      "cell_type": "code",
      "source": "#40. Create a random vector of size 10 and sort it (★★☆)\nZ = np.random.random(10)\nZ.sort()\nZ",
      "metadata": {
        "trusted": true
      },
      "execution_count": 21,
      "outputs": []
    },
    {
      "cell_type": "code",
      "source": "#42. Consider two random array A and B, check if they are equal (★★☆)\nA = np.random.randint(0,2,5)\nB = np.random.randint(0,2,5)\nequal = np.allclose(A,B)\nprint(equal)",
      "metadata": {
        "trusted": true
      },
      "execution_count": 31,
      "outputs": [
        {
          "name": "stdout",
          "text": "False\n",
          "output_type": "stream"
        }
      ]
    },
    {
      "cell_type": "code",
      "source": "#44. Consider a random 10x2 matrix representing cartesian coordinates, convert them to polar coordinates (★★☆)\nZ = np.random.random((10,2))\nX,Y = Z[:,0], Z[:,1]\nR = np.sqrt(X**2+Y**2)\nT = np.arctan2(Y,X)\nprint(R)\nprint(T)",
      "metadata": {
        "trusted": true
      },
      "execution_count": 32,
      "outputs": [
        {
          "name": "stdout",
          "text": "[0.70448298 0.78667712 0.97345164 0.3691029  0.9003007  0.30326865\n 0.45685859 0.88083997 0.74425781 0.59740143]\n[0.94159083 0.75752391 0.53415963 1.01752199 0.82425963 1.32322829\n 0.85052974 0.60988869 0.45792952 1.0635225 ]\n",
          "output_type": "stream"
        }
      ]
    },
    {
      "cell_type": "code",
      "source": "#53. How to convert a float (32 bits) array into an integer (32 bits) in place?\nZ = np.arange(10, dtype=np.int32)\nZ = Z.astype(np.float32, copy=False)",
      "metadata": {
        "trusted": true
      },
      "execution_count": 24,
      "outputs": []
    },
    {
      "cell_type": "code",
      "source": "#58. Subtract the mean of each row of a matrix (★★☆)\nX = np.random.rand(5, 10)\n\n# Recent versions of numpy\nY = X - X.mean(axis=1, keepdims=True)\n\n# Older versions of numpy\nY = X - X.mean(axis=1).reshape(-1, 1)\nY",
      "metadata": {
        "trusted": true
      },
      "execution_count": 25,
      "outputs": []
    }
  ]
}